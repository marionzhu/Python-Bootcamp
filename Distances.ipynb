{
 "cells": [
  {
   "cell_type": "markdown",
   "metadata": {},
   "source": [
    "<div>\n",
    "    <img src=\"images/emlyon.png\" style=\"height:60px; float:left; padding-right:10px; margin-top:5px\" />\n",
    "    <span>\n",
    "        <h1 style=\"padding-bottom:5px;\"> Python BootCamp </h1>\n",
    "        <a href=\"https://masters.em-lyon.com/en/msc-in-digital-marketing-data-science\">[Emlyon]</a> MSc in Digital Marketing & Data Science (DMDS) <br/>\n",
    "         September 2023, Paris | © Saeed VARASTEH [RP] | Jean SAVINIEN\n",
    "    </span>\n",
    "</div>"
   ]
  },
  {
   "cell_type": "markdown",
   "metadata": {
    "scrolled": true
   },
   "source": [
    "Read in the file __\"distances.txt\"__. It contains numbers with units meters (m), centimeters (cm) and millimeters (mm). Calculate the total distance in meters and print your result. i.e. convert all numbers into the same unit, cast them to floats and calculate the sum of all numbers."
   ]
  },
  {
   "cell_type": "code",
   "execution_count": 2,
   "metadata": {},
   "outputs": [
    {
     "name": "stdout",
     "output_type": "stream",
     "text": [
      "50 m\n",
      "4500 cm\n",
      "500 mm\n",
      "45 m\n",
      "90 m\n",
      "42 cm\n",
      "100000 cm\n",
      "487446 mm\n",
      "\n",
      "The total distance is 1718.37 meters.\n"
     ]
    }
   ],
   "source": [
    "txt_file = open('data/exercises/distances.txt', 'r')\n",
    "\n",
    "total_distance = 0\n",
    "units = {'m':1, 'cm':100, 'mm':1000}\n",
    "\n",
    "for line in txt_file:\n",
    "    print(line.strip())\n",
    "    (distance,unit) = line.strip().split(' ')\n",
    "    total_distance += float(distance)/units[unit]\n",
    "\n",
    "print(f'\\nThe total distance is {total_distance:.2f} meters.')\n",
    "\n",
    "txt_file.close()"
   ]
  },
  {
   "cell_type": "markdown",
   "metadata": {},
   "source": [
    "---"
   ]
  }
 ],
 "metadata": {
  "kernelspec": {
   "display_name": "Python 3 (ipykernel)",
   "language": "python",
   "name": "python3"
  },
  "language_info": {
   "codemirror_mode": {
    "name": "ipython",
    "version": 3
   },
   "file_extension": ".py",
   "mimetype": "text/x-python",
   "name": "python",
   "nbconvert_exporter": "python",
   "pygments_lexer": "ipython3",
   "version": "3.11.5"
  },
  "toc": {
   "base_numbering": 1,
   "nav_menu": {},
   "number_sections": true,
   "sideBar": true,
   "skip_h1_title": false,
   "title_cell": "Table of Contents",
   "title_sidebar": "Contents",
   "toc_cell": false,
   "toc_position": {},
   "toc_section_display": true,
   "toc_window_display": false
  }
 },
 "nbformat": 4,
 "nbformat_minor": 2
}
