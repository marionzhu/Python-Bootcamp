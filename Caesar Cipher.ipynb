{
 "cells": [
  {
   "cell_type": "markdown",
   "metadata": {},
   "source": [
    "<div>\n",
    "    <img src=\"images/emlyon.png\" style=\"height:60px; float:left; padding-right:10px; margin-top:5px\" />\n",
    "    <span>\n",
    "        <h1 style=\"padding-bottom:5px;\"> Python BootCamp </h1>\n",
    "        <a href=\"https://masters.em-lyon.com/en/msc-in-digital-marketing-data-science\">[Emlyon]</a> MSc in Digital Marketing & Data Science (DMDS) <br/>\n",
    "         September 2023, Paris | © Saeed VARASTEH [RP] | Jean SAVINIEN\n",
    "    </span>\n",
    "</div>"
   ]
  },
  {
   "cell_type": "markdown",
   "metadata": {},
   "source": [
    "__Background__\n",
    "\n",
    "The Caesar Cipher is a very simple encryption method that replaces each letter in a text by another letter which is specified by a given shift in the alphabet. The shift determines how many letters in the alphabet one should go ahead to find the replacement.\n",
    "\n",
    "Example:\n",
    "\n",
    "- The letter ”a” with shift 1 results in the letter ”b”.\n",
    "- The letter ”c” with shift 2 results in the letter ”e”.\n",
    "\n",
    "Negative shifting is also possible: \n",
    "\n",
    "- The letter ”f” with shift -1 results in the letter ”e”.\n",
    "\n",
    "When a letter would ”drop off” one end of the alphabet, we just start at the other end:\n",
    "\n",
    "- The letter ”z” with shift 1 results in the letter ”a”. \n",
    "- The letter ”a” with shift -3 results in the letter ”x”"
   ]
  },
  {
   "cell_type": "markdown",
   "metadata": {},
   "source": [
    "__Your Task__\n",
    "\n",
    "After years of working for the Secret Society of Secrets, you have finally gotten your hands on a secret message from the Evil League of Evil, and you want to decipher it. From your extensive studies of the League of Evil, you already know that they always encrypt their messages using the Caesar cipher. Your time is too precious to try every possible shift. \n",
    "\n",
    "You remember that some letters are more common than others in the English language, for example the letter \"e\" is the most common. Using this knowledge, you want to analyse the secret message and work out the key.\n",
    "\n",
    "To do this, follow these steps:\n",
    "\n",
    "1. Go through the given, encrypted string and count how often each letter appears. Save the result in an appropriate data structure.\n",
    "\n",
    "2. Find the most common letter in the secret message, knowing that ”e” is the most common letter in the English language, calculate the shift that was used to encrypt the message.\n",
    "\n",
    "Hint: You can use Python dictionary."
   ]
  },
  {
   "cell_type": "code",
   "execution_count": 21,
   "metadata": {},
   "outputs": [
    {
     "name": "stdout",
     "output_type": "stream",
     "text": [
      "the most common letter is h\n",
      "The shift required to decode is -3\n"
     ]
    }
   ],
   "source": [
    "# 1, code to count the letters \n",
    "secret_message = \"\"\"Eholhyh lw ru qrw, \n",
    "brx kdyh fudfnhg wklv phvvdjh! Brx duh dv dzhvrph dv dqb \n",
    "rwkhu vwxghqw dw Hpobrq!\"\"\".lower()\n",
    "\n",
    "letter_count = {}\n",
    "\n",
    "for char in secret_message.lower():\n",
    "    if char.isalpha():\n",
    "        letter_count[char] = letter_count.get(char, 0) + 1\n",
    "        \n",
    "# second way to count the letters \n",
    "# letter_count[char] = letter_count[char] + 1 if char in letter_count else 1\n",
    "\n",
    "most_common_letter = max(letter_count, key = letter_count.get)\n",
    "print('the most common letter is '+ most_common_letter)\n",
    "\n",
    "\n",
    "\n",
    "\n",
    "# 2, code to find the shift\n",
    "alphabet = 'abcdefghijklmnopqrstuvwxyz'\n",
    "shift = alphabet.index('e') - alphabet.index(most_common_letter) \n",
    "print(f'The shift required to decode is {shift}')\n"
   ]
  },
  {
   "cell_type": "markdown",
   "metadata": {},
   "source": [
    "3. Decrypt the message: After you figure out the shift.\n",
    "\n",
    "You are now ready to write a function that will decrypt your secret message, based on the shift that was used."
   ]
  },
  {
   "cell_type": "code",
   "execution_count": 28,
   "metadata": {
    "scrolled": true
   },
   "outputs": [
    {
     "name": "stdout",
     "output_type": "stream",
     "text": [
      "believe it or not, \n",
      "you have cracked this message! you are as awesome as any \n",
      "other student at emlyon!\n"
     ]
    }
   ],
   "source": [
    "def decrypt(encrypted, shift):\n",
    "    \n",
    "    alphabet = 'abcdefghijklmnopqrstuvwxyz'\n",
    "    result = ''\n",
    "    \n",
    "    for char in encrypted.lower():\n",
    "        if char in alphabet: # this will ignore accented letters like french à, é ..\n",
    "            original_chat = alphabet[(alphabet.index(char)+shift)%26]\n",
    "            result += original_chat\n",
    "        else:\n",
    "            result += char\n",
    "    return result\n",
    "\n",
    "\n",
    "secret_message = \"\"\"Eholhyh lw ru qrw, \n",
    "brx kdyh fudfnhg wklv phvvdjh! Brx duh dv dzhvrph dv dqb \n",
    "rwkhu vwxghqw dw Hpobrq!\"\"\"\n",
    "\n",
    "shift = -3   # as computed above, the shift is -3\n",
    "\n",
    "original_message = decrypt(secret_message, shift)\n",
    "print(original_message)"
   ]
  },
  {
   "cell_type": "markdown",
   "metadata": {},
   "source": [
    "---"
   ]
  }
 ],
 "metadata": {
  "kernelspec": {
   "display_name": "Python 3 (ipykernel)",
   "language": "python",
   "name": "python3"
  },
  "language_info": {
   "codemirror_mode": {
    "name": "ipython",
    "version": 3
   },
   "file_extension": ".py",
   "mimetype": "text/x-python",
   "name": "python",
   "nbconvert_exporter": "python",
   "pygments_lexer": "ipython3",
   "version": "3.11.5"
  },
  "toc": {
   "base_numbering": 1,
   "nav_menu": {},
   "number_sections": true,
   "sideBar": true,
   "skip_h1_title": false,
   "title_cell": "Table of Contents",
   "title_sidebar": "Contents",
   "toc_cell": false,
   "toc_position": {},
   "toc_section_display": true,
   "toc_window_display": false
  }
 },
 "nbformat": 4,
 "nbformat_minor": 2
}
