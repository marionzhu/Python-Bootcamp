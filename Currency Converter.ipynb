{
 "cells": [
  {
   "cell_type": "markdown",
   "metadata": {},
   "source": [
    "<div>\n",
    "    <img src=\"images/emlyon.png\" style=\"height:60px; float:left; padding-right:10px; margin-top:5px\" />\n",
    "    <span>\n",
    "        <h1 style=\"padding-bottom:5px;\"> Python BootCamp </h1>\n",
    "        <a href=\"https://masters.em-lyon.com/en/msc-in-digital-marketing-data-science\">[Emlyon]</a> MSc in Digital Marketing & Data Science (DMDS) <br/>\n",
    "         September 2023, Paris | © Saeed VARASTEH [RP] | Jean SAVINIEN\n",
    "    </span>\n",
    "</div>"
   ]
  },
  {
   "cell_type": "markdown",
   "metadata": {},
   "source": [
    "Consider money that you need to convert into another currency. \n",
    "\n",
    "We will ask you to code a converter function by asking the user to give an input value and specify the conversion he or she wants to make (from the source currency to the target currency)."
   ]
  },
  {
   "cell_type": "markdown",
   "metadata": {},
   "source": [
    "#### Step one"
   ]
  },
  {
   "cell_type": "markdown",
   "metadata": {},
   "source": [
    "Let's assume you are a user who wants to convert money from EUR to YEN (Japanese currency).\n",
    "\n",
    "Please take the currency value to be 1 EUR = 157.58 YEN\n",
    "\n",
    "Write a code that: \n",
    "\n",
    "* (1) Asks from the user for an input\n",
    "    - This value will be considered to be in EUR.\n",
    "* (2) Call your converter function with this value.\n",
    "* (3) Check the value and raise an error if it is not a numerical or positive value.\n",
    "    - All your error messages must start with \"Error: \"\n",
    "    - On error, the function returns -1.\n",
    "* (4) Then calculates the value in YEN. \n",
    "* (5) Return the result."
   ]
  },
  {
   "cell_type": "code",
   "execution_count": 2,
   "metadata": {},
   "outputs": [
    {
     "name": "stdout",
     "output_type": "stream",
     "text": [
      "Enter a value in EUR to be converted to YEN:2\n",
      "Your input is equal to 315.16 YEN\n"
     ]
    },
    {
     "data": {
      "text/plain": [
       "315.16"
      ]
     },
     "execution_count": 2,
     "metadata": {},
     "output_type": "execute_result"
    }
   ],
   "source": [
    "# isnumeric() and isdigit() can not identify float, so define is_number function\n",
    "def is_number(a):\n",
    "    try:\n",
    "        float(a)\n",
    "        return True\n",
    "    except ValueError:\n",
    "        return False\n",
    "        \n",
    "\n",
    "value = input('Enter a value in EUR to be converted to YEN:')\n",
    "\n",
    "def currency_converter(value):\n",
    "    #(3) Check the value and raise an error if it is not a numerical or positive value\n",
    "    if not is_number(value) or float(value) < 0: \n",
    "        error_message = 'Error: your value should be a positive number'\n",
    "        print(error_message)\n",
    "        conversion = -1\n",
    "    else:\n",
    "        conversion = float(value) * 157.58  \n",
    "        print(f'Your input is equal to {conversion:.2f} YEN')\n",
    "    return conversion \n",
    "\n",
    "currency_converter(value)"
   ]
  },
  {
   "cell_type": "code",
   "execution_count": 84,
   "metadata": {},
   "outputs": [
    {
     "name": "stdout",
     "output_type": "stream",
     "text": [
      "Enter a value in EUR to be converted to YEN:hey\n",
      "Error: your value should be a positive number\n",
      "Your input is equal to -1.00 YEN.\n"
     ]
    }
   ],
   "source": [
    "prompt = 'Enter a value in EUR to be converted to YEN:'\n",
    "\n",
    "\n",
    "value = input('Enter a value in EUR to be converted to YEN:')\n",
    "output = currency_converter(value)\n",
    "\n",
    "print(f\"Your input is equal to {output:.2f} YEN.\")"
   ]
  },
  {
   "cell_type": "markdown",
   "metadata": {},
   "source": [
    "#### Step two"
   ]
  },
  {
   "cell_type": "markdown",
   "metadata": {},
   "source": [
    "Let's now consider multiple options of conversion from one currency to another one. \n",
    "\n",
    "Create a function that takes two inputs:\n",
    "\n",
    "- the `value` (in EUR) to be converted.\n",
    "- the final `currency` for which you need to know the value.\n",
    "\n",
    "For this exercise, you will consider the following currencies: YEN / USD / CAD / GBP / INR\n",
    "\n",
    "The conversion rates are: \n",
    "\n",
    "- 1 EUR = 157.58 YEN\n",
    "- 1 EUR = 0.99 USD\n",
    "- 1 EUR = 1.35 CAD\n",
    "- 1 EUR = 0.86 GBP \n",
    "- 1 EUR = 81.90 INR\n",
    "\n",
    "**When asking for inputs from the user, please stick to upper case letters**"
   ]
  },
  {
   "cell_type": "code",
   "execution_count": 58,
   "metadata": {},
   "outputs": [
    {
     "name": "stdout",
     "output_type": "stream",
     "text": [
      "Enter a value in EUR to be converted:hey\n",
      "Select one of the given currencies YEN / USD / CAD / GBP / INR: usd\n",
      "Error: your value should be a positive number\n"
     ]
    },
    {
     "data": {
      "text/plain": [
       "-1"
      ]
     },
     "execution_count": 58,
     "metadata": {},
     "output_type": "execute_result"
    }
   ],
   "source": [
    "value = input('Enter a value in EUR to be converted:')\n",
    "currency = input('Select one of the given currencies YEN / USD / CAD / GBP / INR: ')\n",
    "\n",
    "def currency_converter2(value, currency):\n",
    "    if not is_number(value) or float(value) < 0:\n",
    "        error_message = 'Error: your value should be a positive number'\n",
    "        print(error_message)\n",
    "        return -1\n",
    "        \n",
    "    if currency.upper() not in ('YEN','USD','CAD','GBP','INR'):\n",
    "        error_message2 = 'Error: select one of the given currencies (YEN / USD / CAD / GBP / INR)'\n",
    "        print(error_message2)\n",
    "        return -1\n",
    "\n",
    "    conversion_rates = {\n",
    "        'YEN': 157.58,\n",
    "        'USD': 0.99,\n",
    "        'CAD': 1.35,\n",
    "        'GBP': 0.86,\n",
    "        'INR': 81.90,\n",
    "    }\n",
    "    \n",
    "    conversion = conversion_rates[currency.upper()]*float(value)\n",
    "    return conversion\n",
    "\n",
    "currency_converter2(value,currency)"
   ]
  },
  {
   "cell_type": "code",
   "execution_count": 82,
   "metadata": {},
   "outputs": [
    {
     "name": "stdout",
     "output_type": "stream",
     "text": [
      "Enter a value in EUR to be converted:8.9\n",
      "Select one of the given currencies YEN / USD / CAD / GBP / INR: yen\n",
      "Your input is equal to 1402.46 YEN.\n"
     ]
    }
   ],
   "source": [
    "value = input('Enter a value in EUR to be converted:')\n",
    "currency = input('Select one of the given currencies YEN / USD / CAD / GBP / INR: ')\n",
    "\n",
    "output = currency_converter2(value,currency)\n",
    "print(f\"Your input is equal to {output:.2f} {currency.upper()}.\")"
   ]
  },
  {
   "cell_type": "markdown",
   "metadata": {},
   "source": [
    "More tests:"
   ]
  },
  {
   "cell_type": "code",
   "execution_count": 60,
   "metadata": {},
   "outputs": [
    {
     "data": {
      "text/plain": [
       "10.32"
      ]
     },
     "execution_count": 60,
     "metadata": {},
     "output_type": "execute_result"
    }
   ],
   "source": [
    "input1 = 12\n",
    "input2 = 'GBP'\n",
    "currency_converter2(input1, input2)"
   ]
  },
  {
   "cell_type": "code",
   "execution_count": 61,
   "metadata": {},
   "outputs": [
    {
     "data": {
      "text/plain": [
       "2493.855"
      ]
     },
     "execution_count": 61,
     "metadata": {},
     "output_type": "execute_result"
    }
   ],
   "source": [
    "input1 = 30.45\n",
    "input2 = 'INR'\n",
    "currency_converter2(input1, input2)"
   ]
  },
  {
   "cell_type": "markdown",
   "metadata": {},
   "source": [
    "#### Step three"
   ]
  },
  {
   "cell_type": "markdown",
   "metadata": {},
   "source": [
    "In this last step, you will extend the programme you're programming once again! \n",
    "\n",
    "**Now you will not only consider one input currency, but any input currency.**\n",
    "\n",
    "This means that the user will have to specify which currency the input is in, and he or she will also have to specify the output currency.\n",
    "\n",
    "So here is what you need to do:\n",
    "\n",
    "- Add another input from the user specifying the input or initial currency.\n",
    "\n",
    "**Take time before coding to consider all the ways of converting from one currency to another.** \n",
    "\n",
    "Concerning the conversion rates, use the ones given in step 2. "
   ]
  },
  {
   "cell_type": "code",
   "execution_count": 6,
   "metadata": {},
   "outputs": [
    {
     "name": "stdout",
     "output_type": "stream",
     "text": [
      "Enter a value to be converted:8.90\n",
      "Specify the currency in YEN / USD / CAD / GBP / INR / EUR : usd\n",
      "Select one of the given currencies YEN / USD / CAD / GBP / INR / EUR: cad\n"
     ]
    },
    {
     "data": {
      "text/plain": [
       "12.136363636363637"
      ]
     },
     "execution_count": 6,
     "metadata": {},
     "output_type": "execute_result"
    }
   ],
   "source": [
    "value = input('Enter a value to be converted:')\n",
    "currency1 = input('Specify the currency in YEN / USD / CAD / GBP / INR / EUR : ')\n",
    "currency2 = input('Select one of the given currencies YEN / USD / CAD / GBP / INR / EUR: ')\n",
    "\n",
    "def currency_converter3(value, currency1, currency2):\n",
    "    if not is_number(value) or float(value) < 0:\n",
    "        error_message = 'Error: your value should be a positive number'\n",
    "        print(error_message)\n",
    "        return -1\n",
    "\n",
    "    allowed_currencies = ('YEN', 'USD', 'CAD', 'GBP', 'INR', 'EUR')\n",
    "    \n",
    "    if currency1.upper() not in allowed_currencies or currency2.upper() not in allowed_currencies:\n",
    "        error_message2 = 'Error: select one of the given currencies (YEN / USD / CAD / GBP / INR / EUR)'\n",
    "        print(error_message2)\n",
    "        return -1\n",
    "    \n",
    "    conversion_rates = {\n",
    "        'EUR': 1,\n",
    "        'YEN': 157.58,\n",
    "        'USD': 0.99,\n",
    "        'CAD': 1.35,\n",
    "        'GBP': 0.86,\n",
    "        'INR': 81.90,\n",
    "    }\n",
    "    \n",
    "    conversion = float(value) / conversion_rates[currency1.upper()] * conversion_rates[currency2.upper()]\n",
    "        # Convert currency1 to EUR first, then convert it to currency2\n",
    "    return conversion\n",
    "\n",
    "currency_converter3(value, currency1, currency2)"
   ]
  },
  {
   "cell_type": "code",
   "execution_count": 81,
   "metadata": {},
   "outputs": [
    {
     "name": "stdout",
     "output_type": "stream",
     "text": [
      "Enter a value to be converted:1\n",
      "Specify the currency in YEN / USD / CAD / GBP / INR / EUR : usd\n",
      "Select one of the given currencies YEN / USD / CAD / GBP / INR / EUR: cad\n",
      "Your input in USD, is equal to 1.36 CAD.\n"
     ]
    }
   ],
   "source": [
    "value = input('Enter a value to be converted:')\n",
    "currency1 = input('Specify the currency in YEN / USD / CAD / GBP / INR / EUR : ')\n",
    "currency2 = input('Select one of the given currencies YEN / USD / CAD / GBP / INR / EUR: ')\n",
    "\n",
    "output = currency_converter3(value, currency1, currency2)\n",
    "print(f\"Your input in {currency1.upper()}, is equal to {output:.2f} {currency2.upper()}.\")"
   ]
  },
  {
   "cell_type": "markdown",
   "metadata": {},
   "source": [
    "---"
   ]
  }
 ],
 "metadata": {
  "kernelspec": {
   "display_name": "Python 3 (ipykernel)",
   "language": "python",
   "name": "python3"
  },
  "language_info": {
   "codemirror_mode": {
    "name": "ipython",
    "version": 3
   },
   "file_extension": ".py",
   "mimetype": "text/x-python",
   "name": "python",
   "nbconvert_exporter": "python",
   "pygments_lexer": "ipython3",
   "version": "3.11.5"
  },
  "toc": {
   "base_numbering": 1,
   "nav_menu": {},
   "number_sections": true,
   "sideBar": true,
   "skip_h1_title": false,
   "title_cell": "Table of Contents",
   "title_sidebar": "Contents",
   "toc_cell": false,
   "toc_position": {},
   "toc_section_display": true,
   "toc_window_display": false
  }
 },
 "nbformat": 4,
 "nbformat_minor": 2
}
