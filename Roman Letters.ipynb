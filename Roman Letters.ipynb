{
 "cells": [
  {
   "cell_type": "markdown",
   "id": "55e3bfa8",
   "metadata": {},
   "source": [
    "### Make a function that converts integers to Roman numerals\n",
    "* M = 1000, D = 500, C = 100, L = 50, X = 10, V = 5, I = 1\n",
    "* 0 is not represented.\n",
    "* Numbers greater than 3,999 are not represented.\n",
    "* Roman numerals are repeated to add value: III is equivalent to 1 +1 +1 = 3.\n",
    "<br/>Only powers of 10 may be repeated in this way. Thus, VV is invalid; 5 + 5 would instead be expressed as X.\n",
    "* No more than three repetitions of a numeral can be used. Five repetitions can be represented with a single, larger numeral; to represent four, use the next larger numeral, but precede it with a numeral to subtract from it. Thus, IIII is invalid and would instead be written as IV (one less than five). Likewise, XC represents 90 (10 less than 100), and XL represents 40 (10 less than 50).\n",
    "* A numeral used for subtraction in this way must be the largest power of 10 that is less than the numeral it precedes. Thus, XC is valid but IC is invalid."
   ]
  },
  {
   "cell_type": "code",
   "execution_count": 2,
   "id": "c7185a52",
   "metadata": {},
   "outputs": [
    {
     "name": "stdout",
     "output_type": "stream",
     "text": [
      "MMII\n",
      "MCMXCIX\n",
      "MMXXIII\n"
     ]
    }
   ],
   "source": [
    "def get_roman_letters(n):\n",
    "\n",
    "    roman_letters = [\n",
    "        (1000, 'M'),\n",
    "        (900, 'CM'),\n",
    "        (500, 'D'),\n",
    "        (400, 'CD'),\n",
    "        (100, 'C'),\n",
    "        (90, 'XC'),\n",
    "        (50, 'L'),\n",
    "        (40, 'XL'),\n",
    "        (10, 'X'),\n",
    "        (9, 'IX'),\n",
    "        (5, 'V'),\n",
    "        (4, 'IV'),\n",
    "        (1, 'I')\n",
    "    ]\n",
    "    \n",
    "    import math\n",
    "    \n",
    "    results = []\n",
    "    for value,letter in roman_letters:\n",
    "        number = math.floor(n/value)\n",
    "        if number > 0:\n",
    "            results.append(number*letter)\n",
    "            n -= number * value\n",
    "            \n",
    "    return ''.join(results)\n",
    "    \n",
    "print(get_roman_letters(2002))\n",
    "print(get_roman_letters(1999))\n",
    "print(get_roman_letters(2023))"
   ]
  },
  {
   "cell_type": "markdown",
   "id": "0caf8221",
   "metadata": {},
   "source": [
    "### Make a function that converts Roman numeral to integer"
   ]
  },
  {
   "cell_type": "code",
   "execution_count": 3,
   "id": "e87b0fdb",
   "metadata": {},
   "outputs": [
    {
     "name": "stdout",
     "output_type": "stream",
     "text": [
      "1999\n",
      "2002\n",
      "4\n"
     ]
    }
   ],
   "source": [
    "def roman_to_int(roman_num):\n",
    "    roman_dict = {'M':1000, 'D':500, 'C':100, 'L':50, 'X':10, 'V':5, 'I':1}\n",
    "    result = 0\n",
    "    for i in range(len(roman_num)):\n",
    "        current_val = roman_dict[roman_num[i]]\n",
    "        if (i+1 < len(roman_num)) and (current_val < roman_dict[roman_num[i+1]]) :\n",
    "            result -= current_val\n",
    "        else:\n",
    "            result = result + current_val\n",
    "    return result\n",
    "    \n",
    "print(roman_to_int('MCMXCIX'))\n",
    "print(roman_to_int('MMII'))\n",
    "print(roman_to_int('IV'))"
   ]
  }
 ],
 "metadata": {
  "kernelspec": {
   "display_name": "Python 3 (ipykernel)",
   "language": "python",
   "name": "python3"
  },
  "language_info": {
   "codemirror_mode": {
    "name": "ipython",
    "version": 3
   },
   "file_extension": ".py",
   "mimetype": "text/x-python",
   "name": "python",
   "nbconvert_exporter": "python",
   "pygments_lexer": "ipython3",
   "version": "3.11.5"
  }
 },
 "nbformat": 4,
 "nbformat_minor": 5
}
